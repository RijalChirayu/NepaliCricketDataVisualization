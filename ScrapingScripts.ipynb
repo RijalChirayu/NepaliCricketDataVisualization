{
 "cells": [
  {
   "cell_type": "code",
   "execution_count": 1,
   "metadata": {},
   "outputs": [],
   "source": [
    "import requests \n",
    "from bs4 import BeautifulSoup \n",
    "import pandas as pd "
   ]
  },
  {
   "cell_type": "markdown",
   "metadata": {},
   "source": [
    "Function to get data from the site..."
   ]
  },
  {
   "cell_type": "code",
   "execution_count": 2,
   "metadata": {},
   "outputs": [],
   "source": [
    "def get_Data(url , no_columns) -> pd.DataFrame:\n",
    "    result = requests.get(url)\n",
    "    result.raise_for_status()\n",
    "    soup = BeautifulSoup(result.text , 'html.parser')\n",
    "    columns = soup.find_all('td' , class_='ds-min-w-max')\n",
    "    names = []\n",
    "    for name in columns: \n",
    "        name_ = name.string\n",
    "        names.append(name_)\n",
    "    columns = names[:no_columns]\n",
    "    #creating dictionary of the data\n",
    "    data_dictionary ={}\n",
    "    for idx , i in enumerate(columns):\n",
    "        data_dictionary[i] = names[idx::no_columns][1:]\n",
    "    return pd.DataFrame(data_dictionary)\n"
   ]
  },
  {
   "cell_type": "code",
   "execution_count": 17,
   "metadata": {},
   "outputs": [],
   "source": [
    "batting_players_odi = get_Data(url=\"https://www.espncricinfo.com/records/team/averages-batting/nepal-32/one-day-internationals-2\" ,\n",
    "                                    no_columns=12)\n",
    "batting_players_t20 = get_Data(url=\"https://www.espncricinfo.com/records/team/averages-batting/nepal-32/twenty20-internationals-3?current=2\" ,\n",
    "                                    no_columns=12)\n",
    "bowling_players_t20 = get_Data(url=\"https://www.espncricinfo.com/records/team/averages-bowling/nepal-32/twenty20-internationals-3\" , \n",
    "                                no_columns=16)\n",
    "bowling_players_odi = get_Data(url=\"https://www.espncricinfo.com/records/team/averages-bowling/nepal-32/one-day-internationals-2\" , \n",
    "                                no_columns=16)"
   ]
  },
  {
   "cell_type": "code",
   "execution_count": 20,
   "metadata": {},
   "outputs": [],
   "source": [
    "batting_players_odi.to_csv('data/batting_players_odi.csv' , index = False)\n",
    "batting_players_t20.to_csv('data/batting_players_t20.csv' , index = False)\n",
    "bowling_players_odi.to_csv('data/bowling_players_odi.csv', index = False)\n",
    "bowling_players_t20.to_csv('data/bowling_players_t20.csv' , index=False)\n"
   ]
  }
 ],
 "metadata": {
  "kernelspec": {
   "display_name": "Python 3",
   "language": "python",
   "name": "python3"
  },
  "language_info": {
   "codemirror_mode": {
    "name": "ipython",
    "version": 3
   },
   "file_extension": ".py",
   "mimetype": "text/x-python",
   "name": "python",
   "nbconvert_exporter": "python",
   "pygments_lexer": "ipython3",
   "version": "3.11.5"
  }
 },
 "nbformat": 4,
 "nbformat_minor": 2
}
